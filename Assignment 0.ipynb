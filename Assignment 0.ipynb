{
 "cells": [
  {
   "cell_type": "markdown",
   "metadata": {},
   "source": [
    "<h1>Computer Vision</h1>"
   ]
  },
  {
   "cell_type": "markdown",
   "metadata": {},
   "source": [
    "                                                                                                Assignment 0\n",
    "                                                                                                Archit Kumar\n",
    "                                                                                                2018201051"
   ]
  },
  {
   "cell_type": "markdown",
   "metadata": {},
   "source": [
    "#  Converting video into images"
   ]
  },
  {
   "cell_type": "markdown",
   "metadata": {},
   "source": [
    "Following code converts the video \"movie.mp4\" into its constitutent images and save them into ./images folder  "
   ]
  },
  {
   "cell_type": "markdown",
   "metadata": {},
   "source": [
    "<a href= \"https://drive.google.com/file/d/1gVjPJzTdlS6uVo-0bdJjiLwhll1n5KCE/view?usp=sharing\"> link of sample video</a>"
   ]
  },
  {
   "cell_type": "code",
   "execution_count": 9,
   "metadata": {
    "collapsed": false
   },
   "outputs": [],
   "source": [
    "import cv2 as cv\n",
    "\n",
    "video = cv.VideoCapture('movie.mp4') \n",
    "status , image = video.read() \n",
    "count =  0 \n",
    "while status :\n",
    "\tcv.imwrite(\"images/%d.jpg\"%count , image)\n",
    "\tstatus , image = video.read()\n",
    "\tcount += 1"
   ]
  },
  {
   "cell_type": "markdown",
   "metadata": {},
   "source": [
    "<h4>sample output</h4>\n",
    "<p><img src = \"images/0.jpg\">Frame 0</p>\n",
    "<p><img src = \"images/50.jpg\">Frame 50</p>"
   ]
  },
  {
   "cell_type": "markdown",
   "metadata": {},
   "source": [
    "# Merging a set of images into single video "
   ]
  },
  {
   "cell_type": "markdown",
   "metadata": {},
   "source": [
    "Following code works as follows :<br>\n",
    "1. iterate through each image in the given folder ./images and stores the name in 'files' list in sorted order<br>\n",
    "2. open each image in 'files' list using 'cv.imread' function and store into array.<br>\n",
    "3. use video.writer function to write images into video buffer .<br>\n",
    "4. finally save video using release function.<br>\n",
    "5. Frame rate is controlled by <b>\"fps\"</b>"
   ]
  },
  {
   "cell_type": "markdown",
   "metadata": {},
   "source": [
    "<h4> sample images</h4>\n",
    "<img src = \"images/0.jpg\"><img src = \"images/76.jpg\">"
   ]
  },
  {
   "cell_type": "code",
   "execution_count": 12,
   "metadata": {
    "collapsed": false
   },
   "outputs": [],
   "source": [
    "import cv2 as cv\n",
    "import numpy as np\n",
    "import os\n",
    "from os.path import isfile ,  join\n",
    "import locale\n",
    "\n",
    "path_in  = './images/'\n",
    "path_out = 'video.mp4'\n",
    "fps = 23.0 # Frame Per second\n",
    "\n",
    "array = []\n",
    "files = [int(f.split('.')[0]) for f in os.listdir(path_in)]\n",
    "files.sort()\n",
    "\n",
    "for i in range(len(files)):\n",
    "\tfilename = path_in + '%d.jpg'%files[i]\n",
    "\timg = cv.imread(filename)\n",
    "\theight , width , layers = img.shape\n",
    "\tsize = (width,height)\n",
    "\tarray.append(img)\n",
    "  \n",
    "out = cv.VideoWriter(path_out , cv.VideoWriter_fourcc(*'mp4v') , fps , size)\n",
    "for i in range(len(array)):\n",
    "\tout.write(array[i])\n",
    "out.release()\n"
   ]
  },
  {
   "cell_type": "markdown",
   "metadata": {},
   "source": [
    "<h4>output </h4>\n",
    "<a href = \"https://drive.google.com/file/d/1gVjPJzTdlS6uVo-0bdJjiLwhll1n5KCE/view?usp=sharing\">link  for output video</a>"
   ]
  },
  {
   "cell_type": "markdown",
   "metadata": {},
   "source": [
    "# Capturing Images from Webcam"
   ]
  },
  {
   "cell_type": "markdown",
   "metadata": {},
   "source": [
    "Following code accesss webcam and show the images into a new window. on pressing space image is captured and stored into ./cam folder . on pressing escape window is closed. "
   ]
  },
  {
   "cell_type": "code",
   "execution_count": 8,
   "metadata": {
    "collapsed": false
   },
   "outputs": [
    {
     "name": "stdout",
     "output_type": "stream",
     "text": [
      "image is captured and saved into ./cam folder\n",
      "Escape hit , closing\n"
     ]
    }
   ],
   "source": [
    "import cv2 as cv\n",
    "cam = cv.VideoCapture(0)\n",
    "cv.namedWindow(\"test\")\n",
    "img_counter = 0 \n",
    "\n",
    "while True : \n",
    "\tret , frame = cam.read()\n",
    "\tcv.imshow(\"test\",frame)\n",
    "\tif not ret :\n",
    "\t\tbreak\n",
    "\tk = cv.waitKey(1) #waiting for key press\n",
    "\tif k%256 == 27:\n",
    "\t\tprint \"Escape hit , closing\"\n",
    "\t\tbreak\n",
    "\telif k%256 == 32 :\n",
    "\t\tprint \"image is captured and saved into ./cam folder\"\n",
    "\t\tcv.imwrite(\"./cam/%d.png\"%img_counter,  frame)\n",
    "\t\timg_counter = img_counter + 1\n",
    "cam.release()\n",
    "cv.destroyAllWindows()"
   ]
  },
  {
   "cell_type": "markdown",
   "metadata": {},
   "source": [
    "##  Chroma Keying  <br>"
   ]
  },
  {
   "cell_type": "markdown",
   "metadata": {},
   "source": [
    "Chroma keying, is a visual effects/post-production technique for compositing (layering) two images or video streams together based on color hues."
   ]
  },
  {
   "cell_type": "markdown",
   "metadata": {},
   "source": [
    "Working of different functions are as follow : "
   ]
  },
  {
   "cell_type": "markdown",
   "metadata": {},
   "source": [
    "<h4> colorclose function</h4>\n",
    "this function simply calculate a mask which will be used in merging.<br>\n",
    "Input : A 1*3 array which corresponds to pixel value into [y cb cr] color space.<br>\n",
    "output : 0 or 255 based on the closesness of input pixel with keycolor.<br>"
   ]
  },
  {
   "cell_type": "markdown",
   "metadata": {},
   "source": [
    "<h4>result function</h4>\n",
    "this function returns the merged frame<br>\n",
    "Input : two image frame which corresponds to foreground and background video<br>\n",
    "output : merged frame<br>\n",
    "working : based on mask ($ \\alpha $) obtained from colorclose function , pixel value of output image is calculated as follow :<br>\n",
    "$$ out(i,j) = (1 - \\alpha)*foreground(i,j) + \\alpha*background(i,j) $$\n",
    "<br><i>rest code simply captures frames from input video and output video in loop and output frame from \"result\" function is simply added into buffer needed for final video. </i>"
   ]
  },
  {
   "cell_type": "markdown",
   "metadata": {},
   "source": [
    "<h4> Input videos link</h4>\n",
    "<a href = \"https://drive.google.com/file/d/1M57JBcu-XkP8hdBTiH280h_tvqKD_vm2/view?usp=sharing\">background video</a><br>\n",
    "<a href = \"https://drive.google.com/file/d/1i6LdceJjSuoJV9EYdXH_04guXURbwfsl/view?usp=sharing\">foreground video</a>"
   ]
  },
  {
   "cell_type": "code",
   "execution_count": null,
   "metadata": {
    "collapsed": true
   },
   "outputs": [],
   "source": [
    "import cv2\n",
    "import numpy as np\n",
    "import math\n",
    "from PIL import Image\n",
    "\n",
    "\n",
    "key_color = (149,44,21)\n",
    "tolerance = [50,130]\n",
    "[y_key , cb_key ,cr_key] = key_color \n",
    "\n",
    "\n",
    "def colorclose(arr):\n",
    "\ty , cb_p , cr_p = arr\n",
    "\ttemp = math.sqrt((cb_key-cb_p)**2 + (cr_key - cr_p)**2)\n",
    "\tif temp < 100  :\n",
    "\telse:\n",
    "\t\tz = 1.0\n",
    "\treturn 255.0*z\n",
    "\n",
    "def result(foreground , backgronud):\n",
    "\tforycbcr = cv2.cvtColor(foreground, cv2.COLOR_BGR2YCrCb)\n",
    "\talpha = np.apply_along_axis(colorclose , 2, forycbcr)\n",
    "\talpha = np.uint8(255-255*(alpha/255))\n",
    "\talpha = cv2.cvtColor(alpha, cv2.COLOR_GRAY2BGR)\n",
    "\n",
    "\talpha = alpha.astype(float)/255\n",
    "\tforeground = foreground.astype(float)\n",
    "\tbackgronud = backgronud.astype(float)\n",
    "\n",
    "\tforeground = cv2.multiply(1.0 - alpha, foreground)\n",
    "\tbackgronud = cv2.multiply(alpha , backgronud)\n",
    "\n",
    "\toutImage = cv2.add(foreground , backgronud)\n",
    "\treturn  outImage\n",
    "\n",
    "\n",
    "vidcap1 = cv2.VideoCapture('jets.mp4')\n",
    "vidcap2 = cv2.VideoCapture('back.mp4')\n",
    "frame_array = []\n",
    "fps = 15.0\n",
    "\n",
    "\n",
    "success1 , image1 = vidcap1.read() \n",
    "success2 , image2 = vidcap2.read() \n",
    "count = 0\n",
    "while success1 and success2 and count < 250:\n",
    "\timage1 = cv2.resize(image1 , (800,600), interpolation = cv2.INTER_AREA)\n",
    "\timage2 = cv2.resize(image2 , (800,600), interpolation = cv2.INTER_AREA)\t\n",
    "\tresult_img = result(image1 , image2)\n",
    "\tcount = count+1\n",
    "\n",
    "\tprint \"merged %d frames\" %count\n",
    "\tframe_array.append(result_img)\n",
    "\tsuccess1 , image1 = vidcap1.read()\n",
    "\tsuccess2 , image2 = vidcap2.read()\n",
    "    \n",
    "out = cv2.VideoWriter(\"merged.mp4\", cv2.VideoWriter_fourcc(*'mp4v') , fps , (800,600))\n",
    "for i in range(len(frame_array)):\n",
    "\tout.write(frame_array[i].astype(np.uint8))\n",
    "out.release()\n"
   ]
  },
  {
   "cell_type": "markdown",
   "metadata": {},
   "source": [
    "<h4>output video</h4>\n",
    "<a href = \"https://drive.google.com/file/d/1pV7rgMM7qmFhi8fi1yDZDu7AlXHTUpC7/view?usp=sharing\"> merged video</a>"
   ]
  }
 ],
 "metadata": {
  "anaconda-cloud": {},
  "kernelspec": {
   "display_name": "Python [default]",
   "language": "python",
   "name": "python2"
  },
  "language_info": {
   "codemirror_mode": {
    "name": "ipython",
    "version": 2
   },
   "file_extension": ".py",
   "mimetype": "text/x-python",
   "name": "python",
   "nbconvert_exporter": "python",
   "pygments_lexer": "ipython2",
   "version": "2.7.12"
  }
 },
 "nbformat": 4,
 "nbformat_minor": 1
}
